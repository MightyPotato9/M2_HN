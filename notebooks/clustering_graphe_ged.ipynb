{
 "cells": [
  {
   "cell_type": "code",
   "execution_count": 191,
   "metadata": {},
   "outputs": [],
   "source": [
    "# for everything else\n",
    "import os\n",
    "import numpy as np\n",
    "import matplotlib.pyplot as plt\n",
    "from skimage.morphology import skeletonize,medial_axis,thin,rectangle\n",
    "from skimage import img_as_bool, io, color, data, util\n",
    "from skimage.transform import resize\n",
    "import networkx as nx\n",
    "import sknw\n",
    "import hdbscan\n",
    "from sklearn.cluster import AgglomerativeClustering\n",
    "from tensorflow.keras.utils import load_img \n",
    "from tqdm import tqdm\n",
    "import gmatch4py as gm\n",
    "import cv2\n",
    "import node2vec"
   ]
  },
  {
   "cell_type": "markdown",
   "metadata": {},
   "source": [
    "# Calcul de similitude par graph edit distance"
   ]
  },
  {
   "cell_type": "code",
   "execution_count": 429,
   "metadata": {},
   "outputs": [],
   "source": [
    "path = 'C:/Users/utilisateur/Desktop/Projet de recherche/SIG/Parcelles_Vasserot/Parcelles_Vasserot_Carre_Aligne_Rue'\n",
    "# change the working directory to the path where the images are located\n",
    "os.chdir(path)\n",
    "\n",
    "# this list holds all the image filenames\n",
    "parcelles = []\n",
    "\n",
    "# creates a ScandirIterator aliased as files\n",
    "with os.scandir(path) as files:\n",
    "  # loops through each file in the directory\n",
    "    for file in files:\n",
    "        if file.name.endswith('.jpg'):\n",
    "          # adds only the image files to the list\n",
    "            parcelles.append(file.name)"
   ]
  },
  {
   "cell_type": "code",
   "execution_count": 430,
   "metadata": {},
   "outputs": [],
   "source": [
    "def extract_complex_skeleton(parcelle):\n",
    "    image = ~img_as_bool(color.rgb2gray(io.imread(parcelle)))\n",
    "    ax = medial_axis(image).astype(np.uint16)\n",
    "    kernel = cv2.getStructuringElement(cv2.MORPH_CROSS,(3,3))\n",
    "    dilation = cv2.dilate(ax,kernel,iterations = 10)\n",
    "    ske = skeletonize(image).astype(np.uint16)\n",
    "    graph = sknw.build_sknw(ske)\n",
    "    return(graph)\n",
    "\n",
    "def extract_axis_normal(parcelle):\n",
    "    image = ~img_as_bool(color.rgb2gray(io.imread(parcelle)))\n",
    "    ax = medial_axis(image).astype(np.uint16)\n",
    "    graph = sknw.build_sknw(ax)\n",
    "    return(graph)\n",
    "\n",
    "def extract_skeleton(parcelle):\n",
    "    image = ~img_as_bool(color.rgb2gray(io.imread(parcelle)))\n",
    "    ske = skeletonize(image).astype(np.uint16)\n",
    "    graph = sknw.build_sknw(ske)\n",
    "    return(graph)\n",
    "\n",
    "#lent!\n",
    "def extract_thin(parcelle):\n",
    "    image = ~img_as_bool(color.rgb2gray(io.imread(parcelle)))\n",
    "    th = mahotas.thin(image).astype(np.uint16)\n",
    "    graph = sknw.build_sknw(th)\n",
    "    return(graph)"
   ]
  },
  {
   "cell_type": "code",
   "execution_count": 431,
   "metadata": {},
   "outputs": [
    {
     "name": "stderr",
     "output_type": "stream",
     "text": [
      "100%|████████████████████████████████████████████████████████████████████████████████| 361/361 [05:34<00:00,  1.08it/s]\n"
     ]
    }
   ],
   "source": [
    "graphs = {}\n",
    "p = 'C:/Users/utilisateur/Desktop/Projet de recherche/SIG/Parcelles_Vasserot/Parcelles_Vasserot_Graphes'\n",
    "\n",
    "# lop through each image in the dataset\n",
    "for parcelle in tqdm(parcelles):\n",
    "    # try to extract the features and update the dictionary\n",
    "    try:\n",
    "        feat = extract_complex_skeleton(parcelle)\n",
    "        graphs[parcelle] = feat\n",
    "    # if something fails, save the extracted features as a pickle file (optional)\n",
    "    except:\n",
    "        with open(p,'wb') as file:\n",
    "            pickle.dump(graphs,file)"
   ]
  },
  {
   "cell_type": "code",
   "execution_count": 432,
   "metadata": {},
   "outputs": [],
   "source": [
    "ged = gm.GraphEditDistance(1,1,1,0) # all edit costs are equal to 1\n",
    "dist_mat = ged.compare(list(graphs.values()),None)"
   ]
  },
  {
   "cell_type": "code",
   "execution_count": 385,
   "metadata": {},
   "outputs": [],
   "source": [
    "#Calcul lent avec NetworkX\n",
    "\n",
    "dim = 30\n",
    "\n",
    "dist_mat = np.zeros((dim,dim))\n",
    "\n",
    "for i in range(dim):\n",
    "    for j in tqdm(range(i,dim)):\n",
    "        for v in nx.optimize_edit_paths(data[i],data[j]):\n",
    "            dist = v[-1]\n",
    "        dist_mat[i][j] = dist\n",
    "        dist_mat[j][i] = dist"
   ]
  },
  {
   "cell_type": "code",
   "execution_count": 433,
   "metadata": {},
   "outputs": [
    {
     "data": {
      "text/plain": [
       "array([[0.00000000e+00, 3.98617886e+02, 9.82950548e+02, ...,\n",
       "        2.75293501e+03, 9.81950548e+02, 2.75293501e+03],\n",
       "       [8.00000000e+00, 0.00000000e+00, 2.12882821e+02, ...,\n",
       "        5.26848903e+02, 2.15882821e+02, 5.25848903e+02],\n",
       "       [1.20000000e+01, 3.00000000e+00, 0.00000000e+00, ...,\n",
       "        6.77538239e+02, 3.00000000e+00, 6.77538239e+02],\n",
       "       ...,\n",
       "       [8.00000000e+00, 8.00000000e+00, 4.00000000e+00, ...,\n",
       "        0.00000000e+00, 2.00000000e+00, 2.00000000e+00],\n",
       "       [8.00000000e+00, 6.00000000e+00, 3.00000000e+00, ...,\n",
       "        8.34781449e+02, 0.00000000e+00, 8.37781449e+02],\n",
       "       [1.00000000e+01, 6.00000000e+00, 4.00000000e+00, ...,\n",
       "        2.00000000e+00, 5.00000000e+00, 0.00000000e+00]])"
      ]
     },
     "execution_count": 433,
     "metadata": {},
     "output_type": "execute_result"
    }
   ],
   "source": [
    "dist_mat"
   ]
  },
  {
   "cell_type": "code",
   "execution_count": 437,
   "metadata": {},
   "outputs": [
    {
     "name": "stdout",
     "output_type": "stream",
     "text": [
      "[67 14 11  8  4  4  4 18  0  8  5 38  8  3  0 18  4  4  0  4 23  0  4  0\n",
      "  8  4  5 65  8  4  8  0  4  4  4  3  8  8  8 18  4  0  0  4 18  0  0  4\n",
      "  8 18 38 85 22 21  5  0  0  0  8  1  8  8 18  4  0  0  0  8 18  0  2 55\n",
      " 14  8  0 11 18  0  1  8 11  0  4  4 18  4  4 11  4  0  4  4 18  4  0  7\n",
      "  8  4  8 18  8  4 18 10  4  0  4  4 12 18 83  8  4  4  8 18  0 18 18 18\n",
      " 18  0 18  4  8 18  8  4  7 18 37  8 11  8  0  0  4  4  0  4  4  8  4  4\n",
      "  8  0  0 38  8  0 79  0  0 12 18  0  0  4  8  4  0 18  4  8  4 18  6  4\n",
      "  0  3  4  1  0  8  8  0 23 24  0 69  4 18  0 18  1  8  0  8  0  8 23  0\n",
      " 59 18  8  4  0 18  8 18  4  9  8 87 81 57 51  7  0  4 13  9  0 11  6  4\n",
      "  4  4  8  4  9  5  8 18 63 18 73  8  4 12 18 18 64 18 90  8 22 61  8 18\n",
      " 18  6 13  8  8 53 18 18 89  8  8  8  8 88  5 18 37 68  9  0  8  8 18 92\n",
      "  8  2  8 84 18  8 23  0  0 18  0 71  0 18 21 18  8  3  7 43  2  8 60 86\n",
      "  1  0  1  0 12 29 58  3  0 18 42 41 20  9 28 82 80  0  0  6  1 56 27  0\n",
      " 40 54 39 26  1 52 77 76 75 25 78 50 74 36 99 97 72  0  0 35 70  0  0 95\n",
      " 91 19 49 34 98 48 33 24 17 93 96 45 66 16 44 47 94 32 31 10 62  2 30 46\n",
      " 15]\n"
     ]
    }
   ],
   "source": [
    "#clustering = hdbscan.HDBSCAN(metric='precomputed')\n",
    "clustering = AgglomerativeClustering(n_clusters=100, metric='precomputed', linkage='complete')\n",
    "clustering.fit(dist_mat)\n",
    "print(clustering.labels_)"
   ]
  },
  {
   "cell_type": "code",
   "execution_count": 438,
   "metadata": {},
   "outputs": [
    {
     "name": "stderr",
     "output_type": "stream",
     "text": [
      "C:\\Users\\utilisateur\\AppData\\Local\\Temp\\ipykernel_45868\\2631362469.py:3: VisibleDeprecationWarning: Creating an ndarray from ragged nested sequences (which is a list-or-tuple of lists-or-tuples-or ndarrays with different lengths or shapes) is deprecated. If you meant to do this, you must specify 'dtype=object' when creating the ndarray.\n",
      "  graphs_v = np.array(list(graphs.values()))\n"
     ]
    }
   ],
   "source": [
    "# holds the cluster id and the images { id: [images] }\n",
    "filenames = np.array(list(graphs.keys()))\n",
    "graphs_v = np.array(list(graphs.values()))\n",
    "\n",
    "groups = {}\n",
    "data_clustered = {}\n",
    "\n",
    "for file, graph, cluster in zip(filenames,graphs_v,clustering.labels_):\n",
    "    if cluster not in groups.keys():\n",
    "        groups[cluster] = []\n",
    "        data_clustered[cluster] = []\n",
    "        groups[cluster].append(file)\n",
    "        data_clustered[cluster].append(graph)\n",
    "    else:\n",
    "        groups[cluster].append(file)\n",
    "        data_clustered[cluster].append(graph)\n",
    "        \n",
    "path = 'C:/Users/utilisateur/Desktop/Projet de recherche/SIG/Parcelles_Vasserot/Parcelles_Vasserot_Carre_Aligne_Rue'\n",
    "# change the working directory to the path where the images are located\n",
    "os.chdir(path)"
   ]
  },
  {
   "cell_type": "code",
   "execution_count": 442,
   "metadata": {},
   "outputs": [
    {
     "data": {
      "image/png": "[encoded data removed]",
      "text/plain": [
       "<Figure size 2500x2500 with 1 Axes>"
      ]
     },
     "metadata": {},
     "output_type": "display_data"
    }
   ],
   "source": [
    "# function that lets you view a cluster (based on identifier)        \n",
    "def view_cluster(cluster):\n",
    "    plt.figure(figsize = (25,25));\n",
    "    # gets the list of filenames for a cluster\n",
    "    files = groups[cluster]\n",
    "    graphs = data_clustered[cluster]\n",
    "    # only allow up to 30 images to be shown at a time\n",
    "    if len(files) > 99:\n",
    "        print(f\"Clipping cluster size from {len(files)} to 99\")\n",
    "        files = files[:98]\n",
    "    # plot each image in the cluster\n",
    "    for index, file in enumerate(files):\n",
    "        plt.subplot(10,10,index+1);\n",
    "        img = load_img(file)\n",
    "        img = np.array(img)\n",
    "        plt.imshow(img)\n",
    "        # draw edges by pts\n",
    "        graph = graphs[index]\n",
    "        for (s,e) in graph.edges():\n",
    "            ps = graph[s][e]['pts']\n",
    "            plt.plot(ps[:,1], ps[:,0], 'green')\n",
    "    \n",
    "        # draw node by o\n",
    "        nodes = graph.nodes()\n",
    "        ps = np.array([nodes[i]['o'] for i in nodes])\n",
    "        plt.plot(ps[:,1], ps[:,0], 'r.')\n",
    "        plt.axis('off')\n",
    "\n",
    "view_cluster(9)"
   ]
  },
  {
   "cell_type": "markdown",
   "metadata": {},
   "source": [
    "# Exemple d'extraction du graphe de la géométrie"
   ]
  },
  {
   "cell_type": "code",
   "execution_count": 194,
   "metadata": {},
   "outputs": [
    {
     "ename": "TypeError",
     "evalue": "'module' object is not subscriptable",
     "output_type": "error",
     "traceback": [
      "\u001b[1;31m---------------------------------------------------------------------------\u001b[0m",
      "\u001b[1;31mTypeError\u001b[0m                                 Traceback (most recent call last)",
      "Cell \u001b[1;32mIn[194], line 1\u001b[0m\n\u001b[1;32m----> 1\u001b[0m graph \u001b[38;5;241m=\u001b[39m \u001b[43mdata\u001b[49m\u001b[43m[\u001b[49m\u001b[38;5;241;43m332\u001b[39;49m\u001b[43m]\u001b[49m\n\u001b[0;32m      2\u001b[0m img \u001b[38;5;241m=\u001b[39m \u001b[38;5;241m~\u001b[39mimg_as_bool(color\u001b[38;5;241m.\u001b[39mrgb2gray(io\u001b[38;5;241m.\u001b[39mimread(parcelles[\u001b[38;5;241m332\u001b[39m])))\n\u001b[0;32m      4\u001b[0m \u001b[38;5;66;03m# draw image\u001b[39;00m\n",
      "\u001b[1;31mTypeError\u001b[0m: 'module' object is not subscriptable"
     ]
    }
   ],
   "source": [
    "graph = graphs[332]\n",
    "img = ~img_as_bool(color.rgb2gray(io.imread(parcelles[332])))\n",
    "\n",
    "# draw image\n",
    "plt.imshow(img, cmap='gray')\n",
    "\n",
    "# draw edges by pts\n",
    "for (s,e) in graph.edges():\n",
    "    ps = graph[s][e]['pts']\n",
    "    plt.plot(ps[:,1], ps[:,0], 'green')\n",
    "    \n",
    "# draw node by o\n",
    "nodes = graph.nodes()\n",
    "ps = np.array([nodes[i]['o'] for i in nodes])\n",
    "plt.plot(ps[:,1], ps[:,0], 'r.')\n",
    "\n",
    "# title and show\n",
    "plt.title('Build Graph')\n",
    "plt.show()"
   ]
  },
  {
   "cell_type": "code",
   "execution_count": null,
   "metadata": {},
   "outputs": [],
   "source": [
    "image = cv2.cvtColor(io.imread(parcelles[0]), cv2.COLOR_RGB2GRAY)\n",
    "image = ~image\n",
    "img1 = image.copy()\n",
    "\n",
    "# Structuring Element\n",
    "kernel = cv2.getStructuringElement(cv2.MORPH_CROSS,(3,3))\n",
    "# Create an empty output image to hold values\n",
    "thin = np.zeros(image.shape,dtype='uint8')\n",
    " \n",
    "# Loop until erosion leads to an empty set\n",
    "while (cv2.countNonZero(img1)!=0):\n",
    "    # Erosion\n",
    "    erode = cv2.erode(img1,kernel)\n",
    "    # Opening on eroded image\n",
    "    opening = cv2.morphologyEx(erode,cv2.MORPH_OPEN,kernel)\n",
    "    # Subtract these two\n",
    "    subset = erode - opening\n",
    "    # Union of all previous sets\n",
    "    thin = cv2.bitwise_or(subset,thin)\n",
    "    # Set the eroded image for next iteration\n",
    "    img1 = erode.copy()\n",
    "\n",
    "#ax = cv2.ximgproc.thinning(thin,thinningType=cv2.ximgproc.THINNING_GUOHALL)\n",
    "graph = sknw.build_sknw(thin)"
   ]
  },
  {
   "cell_type": "code",
   "execution_count": 409,
   "metadata": {},
   "outputs": [],
   "source": [
    "image = ~img_as_bool(color.rgb2gray(io.imread(parcelles[2])))\n",
    "ax = thin(image).astype(np.uint16)\n",
    "kernel = cv2.getStructuringElement(cv2.MORPH_CROSS,(3,3))\n",
    "#closing = cv2.morphologyEx(ax, cv2.MORPH_CLOSE, kernel)\n",
    "#opening = cv2.morphologyEx(ax, cv2.MORPH_OPEN, kernel)\n",
    "dilation = cv2.dilate(ax,kernel,iterations = 10)\n",
    "ske = skeletonize(dilation).astype(np.uint16)\n",
    "graph = sknw.build_sknw(ske)"
   ]
  },
  {
   "cell_type": "code",
   "execution_count": 410,
   "metadata": {},
   "outputs": [
    {
     "data": {
      "image/png": "[encoded data removed]",
      "text/plain": [
       "<Figure size 640x480 with 1 Axes>"
      ]
     },
     "metadata": {},
     "output_type": "display_data"
    }
   ],
   "source": [
    "# draw image>\n",
    "\n",
    "plt.imshow(image, cmap='gray')\n",
    "\n",
    "# draw edges by pts\n",
    "for (s,e) in graph.edges():\n",
    "    ps = graph[s][e]['pts']\n",
    "    plt.plot(ps[:,1], ps[:,0], 'green')\n",
    "    \n",
    "# draw node by o\n",
    "nodes = graph.nodes()\n",
    "ps = np.array([nodes[i]['o'] for i in nodes])\n",
    "plt.plot(ps[:,1], ps[:,0], 'r.')\n",
    "\n",
    "# title and show\n",
    "plt.title('Build Graph')\n",
    "plt.show()"
   ]
  },
  {
   "cell_type": "code",
   "execution_count": null,
   "metadata": {},
   "outputs": [],
   "source": []
  }
 ],
 "metadata": {
  "kernelspec": {
   "display_name": "Python 3",
   "language": "python",
   "name": "python3"
  },
  "language_info": {
   "codemirror_mode": {
    "name": "ipython",
    "version": 3
   },
   "file_extension": ".py",
   "mimetype": "text/x-python",
   "name": "python",
   "nbconvert_exporter": "python",
   "pygments_lexer": "ipython3",
   "version": "3.7.9"
  }
 },
 "nbformat": 4,
 "nbformat_minor": 5
}
